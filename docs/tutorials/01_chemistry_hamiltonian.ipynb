{
 "cells": [
  {
   "cell_type": "markdown",
   "id": "9e40af77-7f0f-4dd6-ab0a-420cf396050e",
   "metadata": {},
   "source": [
    "# Improving energy estimation of a chemistry Hamiltonian with SQD\n",
    "\n",
    "In this tutorial we implement a [Qiskit pattern](https://docs.quantum.ibm.com/guides/intro-to-patterns) showing how to post-process noisy quantum samples to find an approximation to the ground state of a chemistry Hamiltonian: the $N_2$ molecule at equilibrium in the 6-31G basis set. We will follow a [sample-based quantum diagonalization approach](https://arxiv.org/abs/2405.05068) to process samples taken from a ``36``-qubit quantum circuit ansatz (in this case, an LUCJ circuit). In order to account for the effect of quantum noise, the configuration recovery technique is used.\n",
    "\n",
    "The pattern can be described in four steps:\n",
    "\n",
    "1. **Step 1: Map to quantum problem**\n",
    "    - Generate an ansatz for estimating the ground state\n",
    "2. **Step 2: Optimize the problem**\n",
    "    - Transpile the ansatz for the backend\n",
    "3. **Step 3: Execute experiments**\n",
    "    - Draw samples from the ansatz using the ``Sampler`` primitive\n",
    "4. **Step 4: Post-process results**\n",
    "   - Self-consistent configuration recovery loop\n",
    "       - Post-process the full set of bitstring samples, using prior knowledge of particle number and the average orbital occupancy calculated on the most recent iteration.\n",
    "       - Probabilistically create batches of subsamples from recovered bitstrings.\n",
    "       - Project and diagonalize the molecular Hamiltonian over each sampled subspace.\n",
    "       - Save the minimum ground state energy found across all batches and update the avg orbital occupancy.\n",
    "\n",
    "\n",
    "For this example, the interacting-electron Hamiltonian takes the generic form:\n",
    "\n",
    "$$\n",
    "\\hat{H} = \\sum_{ \\substack{pr\\\\\\sigma} } h_{pr} \\, \\hat{a}^\\dagger_{p\\sigma} \\hat{a}_{r\\sigma}\n",
    "+ \n",
    "\\sum_{ \\substack{prqs\\\\\\sigma\\tau} }\n",
    "\\frac{(pr|qs)}{2} \\, \n",
    "\\hat{a}^\\dagger_{p\\sigma}\n",
    "\\hat{a}^\\dagger_{q\\tau}\n",
    "\\hat{a}_{s\\tau}\n",
    "\\hat{a}_{r\\sigma}\n",
    "$$\n",
    "\n",
    "$\\hat{a}^\\dagger_{p\\sigma}$/$\\hat{a}_{p\\sigma}$ are the fermionic creation/annihalation operators associated to the $p$-th basis set element and the spin $\\sigma$. $h_{pr}$ and $(pr|qs)$ are the one- and two-body electronic integrals.\n",
    "\n",
    "The SQD workflow with  self-consistent configuration recovery is depicted in the following diagram.\n",
    "\n",
    "![SQD diagram](../_static/images/sqd_diagram.png)\n",
    "\n",
    "SQD is known to work well when the target eigenstate is sparse: the wave function is supported in a set of basis states $\\mathcal{S} = \\{|x\\rangle \\}$ whose size does not increase exponentially with the size of the problem. In this scenario, the diagonalization of the Hamiltonian projected into the subspace defined by $\\mathcal{S}$:\n",
    "$$\n",
    "H_\\mathcal{S} = P_\\mathcal{S} H  P_\\mathcal{S} \\textrm{ with } P_\\mathcal{S} = \\sum_{x \\in \\mathcal{S}} |x \\rangle \\langle x |;\n",
    "$$\n",
    "yields a good approximation to the target eigenstate. The role of the quantum device is to produce samples of the members of $\\mathcal{S}$ only. First, a quantum circuit prepares the state $|\\Psi\\rangle$ in the quantum device. The Jordan-Wigner encoding is used. Consequently, members of the computational basis represent Fock states (electronic configurations/determinants). The circuit is sampled in the computational basis, yielding the set of noisy configurations $\\tilde{\\mathcal{X}}$. The configurations are represented by bitstrings. The set $\\tilde{\\mathcal{X}}$ is then passed into the classical post-processing block, where the [self-consistent configuration recovery technique](https://arxiv.org/abs/2405.05068) is used. In the SQD framework, the role of the quantum device is to produce a probability distribution."
   ]
  },
  {
   "cell_type": "markdown",
   "id": "afeb054c",
   "metadata": {},
   "source": [
    "### Step 1: Map problem to a quantum circuit\n",
    "\n",
    "In this tutorial, we will approximate the ground state energy of an $N_2$ molecule. First, we will specify the molecule and its properties. Next, we will create a [local unitary cluster Jastrow (LUCJ)](https://pubs.rsc.org/en/content/articlelanding/2023/sc/d3sc02516k) ansatz (quantum circuit) to generate samples from a quantum computer for ground state energy estimation.\n",
    "\n",
    "First, we will specify the molecule and its properties."
   ]
  },
  {
   "cell_type": "code",
   "execution_count": 1,
   "id": "677f54ac-b4ed-47e3-b5ba-5366d3a520f9",
   "metadata": {},
   "outputs": [
    {
     "name": "stdout",
     "output_type": "stream",
     "text": [
      "converged SCF energy = -108.835236570775\n",
      "CASCI E = -109.046671778080  E(CI) = -32.8155692383188  S^2 = 0.0000000\n"
     ]
    }
   ],
   "source": [
    "import warnings\n",
    "\n",
    "warnings.filterwarnings(\"ignore\")\n",
    "\n",
    "import pyscf\n",
    "import pyscf.cc\n",
    "import pyscf.mcscf\n",
    "\n",
    "# Specify molecule properties\n",
    "open_shell = False\n",
    "spin_sq = 0\n",
    "\n",
    "# Build N2 molecule\n",
    "mol = pyscf.gto.Mole()\n",
    "mol.build(\n",
    "    atom=[[\"N\", (0, 0, 0)], [\"N\", (1.0, 0, 0)]],\n",
    "    basis=\"6-31g\",\n",
    "    symmetry=\"Dooh\",\n",
    ")\n",
    "\n",
    "# Define active space\n",
    "n_frozen = 2\n",
    "active_space = range(n_frozen, mol.nao_nr())\n",
    "\n",
    "# Get molecular integrals\n",
    "scf = pyscf.scf.RHF(mol).run()\n",
    "num_orbitals = len(active_space)\n",
    "n_electrons = int(sum(scf.mo_occ[active_space]))\n",
    "num_elec_a = (n_electrons + mol.spin) // 2\n",
    "num_elec_b = (n_electrons - mol.spin) // 2\n",
    "cas = pyscf.mcscf.CASCI(scf, num_orbitals, (num_elec_a, num_elec_b))\n",
    "mo = cas.sort_mo(active_space, base=0)\n",
    "hcore, nuclear_repulsion_energy = cas.get_h1cas(mo)\n",
    "eri = pyscf.ao2mo.restore(1, cas.get_h2cas(mo), num_orbitals)\n",
    "\n",
    "# Compute exact energy\n",
    "exact_energy = cas.run().e_tot"
   ]
  },
  {
   "cell_type": "markdown",
   "id": "96bfe018",
   "metadata": {},
   "source": [
    "Next, we will create the ansatz. The ``LUCJ`` ansatz is a parameterized quantum circuit, and we will initialize it with `t2` and `t1` amplitudes obtained from a CCSD calculation."
   ]
  },
  {
   "cell_type": "code",
   "execution_count": 2,
   "id": "66270387",
   "metadata": {},
   "outputs": [
    {
     "name": "stdout",
     "output_type": "stream",
     "text": [
      "E(CCSD) = -109.0398256929734  E_corr = -0.2045891221988304\n"
     ]
    }
   ],
   "source": [
    "# Get CCSD t2 amplitudes for initializing the ansatz\n",
    "ccsd = pyscf.cc.CCSD(scf, frozen=[i for i in range(mol.nao_nr()) if i not in active_space]).run()\n",
    "t1 = ccsd.t1\n",
    "t2 = ccsd.t2"
   ]
  },
  {
   "attachments": {},
   "cell_type": "markdown",
   "id": "f4d882fa",
   "metadata": {},
   "source": [
    "We will use the [ffsim](https://github.com/qiskit-community/ffsim/tree/main) package to create and initialize the ansatz with `t2` and `t1` amplitudes computed above. Since our molecule has a closed-shell Hartree-Fock state, we will use the spin-balanced variant of the UCJ ansatz, [UCJOpSpinBalanced](https://qiskit-community.github.io/ffsim/api/ffsim.html#ffsim.UCJOpSpinBalanced).\n",
    "\n",
    "As our target IBM hardware has a heavy-hex topology, we will adopt the [_zig-zag_ pattern for qubit interactions](https://pubs.rsc.org/en/content/articlehtml/2023/sc/d3sc02516k). In this pattern, orbitals (represented by qubits) with the same spin are connected with a line topology (red and blue circles) where each line take a zig-zag shape due the heavy-hex connectivity of the target hardware. Again, due to the heavy-hex topology, orbitals for different spins have connections between every 4th orbital (0, 4, 8, etc.) (purple circles).\n",
    "\n",
    "![lucj_ansatz](../_static/images/lucj_ansatz_zig_zag_pattern.jpg)"
   ]
  },
  {
   "cell_type": "code",
   "execution_count": 3,
   "id": "dd69a86c",
   "metadata": {},
   "outputs": [],
   "source": [
    "import ffsim\n",
    "from qiskit import QuantumCircuit, QuantumRegister\n",
    "\n",
    "n_reps = 1\n",
    "alpha_alpha_indices = [(p, p + 1) for p in range(num_orbitals - 1)]\n",
    "alpha_beta_indices = [(p, p) for p in range(0, num_orbitals, 4)]\n",
    "\n",
    "ucj_op = ffsim.UCJOpSpinBalanced.from_t_amplitudes(\n",
    "    t2=t2,\n",
    "    t1=t1,\n",
    "    n_reps=n_reps,\n",
    "    interaction_pairs=(alpha_alpha_indices, alpha_beta_indices),\n",
    ")\n",
    "\n",
    "nelec = (num_elec_a, num_elec_b)\n",
    "\n",
    "# create an empty quantum circuit\n",
    "qubits = QuantumRegister(2 * num_orbitals, name=\"q\")\n",
    "circuit = QuantumCircuit(qubits)\n",
    "\n",
    "# prepare Hartree-Fock state as the reference state and append it to the quantum circuit\n",
    "circuit.append(ffsim.qiskit.PrepareHartreeFockJW(num_orbitals, nelec), qubits)\n",
    "\n",
    "# apply the UCJ operator to the reference state\n",
    "circuit.append(ffsim.qiskit.UCJOpSpinBalancedJW(ucj_op), qubits)\n",
    "circuit.measure_all()"
   ]
  },
  {
   "cell_type": "markdown",
   "id": "db11bf6d",
   "metadata": {},
   "source": [
    "### Step 2: Optimize the problem"
   ]
  },
  {
   "cell_type": "markdown",
   "id": "0760b3f3",
   "metadata": {},
   "source": [
    "Next, we will optimize our circuit for a target hardware. We need to choose the hardware device to use before optimizing our circuit. We will use a fake 127-qubit backend from ``qiskit_ibm_runtime`` to emulate a real device. To run on a real QPU, just replace the fake backend with a real backend. Check out the [Qiskit IBM Runtime docs](https://docs.quantum.ibm.com/guides/get-started-with-primitives#get-started-with-sampler) for more info."
   ]
  },
  {
   "cell_type": "code",
   "execution_count": 4,
   "id": "53a039d8",
   "metadata": {},
   "outputs": [],
   "source": [
    "from qiskit_ibm_runtime.fake_provider import FakeSherbrooke\n",
    "\n",
    "backend = FakeSherbrooke()"
   ]
  },
  {
   "cell_type": "markdown",
   "id": "057ebbf6",
   "metadata": {},
   "source": [
    "Next, we recommend the following steps to optimize the ansatz and make it hardware-compatible.\n",
    "\n",
    "- Select physical qubits (`initial_layout`) from the target hardware that adheres to the zig-zag pattern described above. Laying out qubits in this pattern leads to an efficient hardware-compatible circuit with fewer gates.\n",
    "- Generate a staged pass manager using the [generate_preset_pass_manager](https://docs.quantum.ibm.com/api/qiskit/transpiler_preset#generate_preset_pass_manager) function from Qiskit with your choice of `backend` and `initial_layout`.\n",
    "- Set the `pre_init` stage of your staged pass manager to `ffsim.qiskit.PRE_INIT`. `ffsim.qiskit.PRE_INIT` includes Qiskit transpiler passes that decompose gates into orbital rotations and then merges the orbital rotations, resulting in fewer gates in the final circuit.\n",
    "- Run the pass manager on your circuit. "
   ]
  },
  {
   "cell_type": "code",
   "execution_count": 5,
   "id": "7d554aa5",
   "metadata": {},
   "outputs": [
    {
     "name": "stdout",
     "output_type": "stream",
     "text": [
      "Gate counts (w/o pre-init passes): OrderedDict({'rz': 4459, 'sx': 3423, 'ecr': 1366, 'x': 226, 'measure': 32, 'barrier': 1})\n",
      "Gate counts (w/ pre-init passes): OrderedDict({'rz': 2469, 'sx': 2139, 'ecr': 730, 'x': 76, 'measure': 32, 'barrier': 1})\n"
     ]
    }
   ],
   "source": [
    "from qiskit.transpiler.preset_passmanagers import generate_preset_pass_manager\n",
    "\n",
    "spin_a_layout = [0, 14, 18, 19, 20, 33, 39, 40, 41, 53, 60, 61, 62, 72, 81, 82]\n",
    "spin_b_layout = [2, 3, 4, 15, 22, 23, 24, 34, 43, 44, 45, 54, 64, 65, 66, 73]\n",
    "initial_layout = spin_a_layout + spin_b_layout\n",
    "\n",
    "pass_manager = generate_preset_pass_manager(\n",
    "    optimization_level=3, backend=backend, initial_layout=initial_layout\n",
    ")\n",
    "\n",
    "# without PRE_INIT passes\n",
    "isa_circuit = pass_manager.run(circuit)\n",
    "print(f\"Gate counts (w/o pre-init passes): {isa_circuit.count_ops()}\")\n",
    "\n",
    "# with PRE_INIT passes\n",
    "# We will use the circuit generated by this pass manager for hardware execution\n",
    "pass_manager.pre_init = ffsim.qiskit.PRE_INIT\n",
    "isa_circuit = pass_manager.run(circuit)\n",
    "print(f\"Gate counts (w/ pre-init passes): {isa_circuit.count_ops()}\")"
   ]
  },
  {
   "cell_type": "markdown",
   "id": "0cc1edef",
   "metadata": {},
   "source": [
    "### Step 3: Execute experiments"
   ]
  },
  {
   "cell_type": "markdown",
   "id": "cbf7ef9f",
   "metadata": {},
   "source": [
    "After optimizing the circuit for hardware execution, we are ready to run it on the target hardware and collect samples for ground state energy estimation. As we only have one circuit, we will use Qiskit Runtime's [Job execution mode](https://docs.quantum.ibm.com/guides/execution-modes) and execute our circuit.\n",
    "\n",
    "***Note: We have commented out the code for running the circuit on a QPU and left it for the user's reference. Instead of running on real hardware in this guide, we will just generate random samples drawn from the uniform distribution.***"
   ]
  },
  {
   "cell_type": "code",
   "execution_count": 6,
   "id": "3da09100",
   "metadata": {},
   "outputs": [],
   "source": [
    "import numpy as np\n",
    "from qiskit_addon_sqd.counts import generate_counts_uniform\n",
    "\n",
    "# from qiskit_ibm_runtime import SamplerV2 as Sampler\n",
    "\n",
    "# sampler = Sampler(mode=backend)\n",
    "# job = sampler.run([isa_circuit], shots=10_000)\n",
    "# primitive_result = job.result()\n",
    "# pub_result = primitive_result[0]\n",
    "# counts = pub_result.data.meas.get_counts()\n",
    "\n",
    "rng = np.random.default_rng(24)\n",
    "counts = generate_counts_uniform(10_000, num_orbitals * 2, rand_seed=rng)"
   ]
  },
  {
   "cell_type": "markdown",
   "id": "6df05b6e",
   "metadata": {},
   "source": [
    "### Step 4: Post-process results"
   ]
  },
  {
   "cell_type": "markdown",
   "id": "7a102a7f-aae6-4583-ab82-ae40fcb5496a",
   "metadata": {},
   "source": [
    "First, we will transform the counts into a bitstring matrix and probability array for post-processing.\n",
    "\n",
    "Each row in the matrix represents one unique bitstring. Since qubits are indexed from the right of a bitstring in Qiskit, column ``0`` represents qubit ``N-1``, and column ``N-1`` represents qubit ``0``, where ``N`` is the number of qubits.\n",
    "\n",
    "The alpha particles are represented in the column index range ``(N, N/2]``, and the beta particles are represented in the column range ``(N/2, 0]``."
   ]
  },
  {
   "cell_type": "code",
   "execution_count": 7,
   "id": "7a102a7f-aae6-4583-ab82-ae40fcb5496a",
   "metadata": {},
   "outputs": [
    {
     "name": "stdout",
     "output_type": "stream",
     "text": [
      "Iteration 1\n",
      "\tSubsample 0\n",
      "\t\tEnergy: -107.9503989622129\n",
      "\t\tSubspace dimension: 6400\n",
      "Iteration 2\n",
      "\tSubsample 0\n",
      "\t\tEnergy: -108.94331291626688\n",
      "\t\tSubspace dimension: 547600\n",
      "Iteration 3\n",
      "\tSubsample 0\n",
      "\t\tEnergy: -109.02922263137285\n",
      "\t\tSubspace dimension: 840889\n",
      "Iteration 4\n",
      "\tSubsample 0\n",
      "\t\tEnergy: -109.03357097044147\n",
      "\t\tSubspace dimension: 1081600\n",
      "Iteration 5\n",
      "\tSubsample 0\n",
      "\t\tEnergy: -109.04126675462953\n",
      "\t\tSubspace dimension: 1359556\n"
     ]
    }
   ],
   "source": [
    "from functools import partial\n",
    "\n",
    "from qiskit_addon_sqd.fermion import run_sqd, solve_sci_batch\n",
    "\n",
    "# SQD options\n",
    "iterations = 5\n",
    "\n",
    "# Eigenstate solver options\n",
    "n_batches = 1\n",
    "samples_per_batch = 500\n",
    "max_davidson = 200\n",
    "\n",
    "sci_solver = partial(solve_sci_batch, symmetrize_spin=True, spin_sq=0.0, max_davidson=max_davidson)\n",
    "\n",
    "e_hist = []  # energy history\n",
    "occupancy_hist = []  # occupancies history\n",
    "\n",
    "\n",
    "def callback(energies, sci_states, occupancies):\n",
    "    e_hist.append(energies)\n",
    "    occupancy_hist.append(tuple(np.mean(occupancies, axis=0)))\n",
    "    iteration = len(e_hist)\n",
    "    print(f\"Iteration {iteration}\")\n",
    "    for i, (energy, sci_state) in enumerate(zip(energies, sci_states)):\n",
    "        print(f\"\\tSubsample {i}\")\n",
    "        print(f\"\\t\\tEnergy: {energy}\")\n",
    "        print(f\"\\t\\tSubspace dimension: {np.prod(sci_state.amplitudes.shape)}\")\n",
    "\n",
    "\n",
    "sqd_energy, sci_state = run_sqd(\n",
    "    hcore,\n",
    "    eri,\n",
    "    nelec,\n",
    "    counts,\n",
    "    subsample_size=samples_per_batch,\n",
    "    sci_solver=sci_solver,\n",
    "    symmetrize_spin=True,\n",
    "    iterations=iterations,\n",
    "    n_subsamples=n_batches,\n",
    "    constant=nuclear_repulsion_energy,\n",
    "    callback=callback,\n",
    "    seed=rng,\n",
    ")"
   ]
  },
  {
   "cell_type": "markdown",
   "id": "eb704101-0fe8-4d12-b572-b1d844e35a90",
   "metadata": {},
   "source": [
    "Next, we iteratively refine the samples using configuration recovery and approximate the ground state at each iteration.\n",
    "\n",
    "There are a few user-controlled options which are important for this technique:\n",
    "\n",
    "- ``iterations``: Number of self-consistent configuration recovery iterations\n",
    "- ``n_batches``: Number of batches of configurations used by the different calls to the eigenstate solver\n",
    "- ``samples_per_batch``: Number of unique configurations to include in each batch\n",
    "- ``max_davidson``: Maximum number of Davidson cycles run by each eigensolver"
   ]
  },
  {
   "cell_type": "markdown",
   "id": "9d78906b-4759-4506-9c69-85d4e67766b3",
   "metadata": {},
   "source": [
    "The first plot shows that after a few iterations we estimate the ground state energy within ``~31 mH`` (chemical accuracy is typically accepted to be ``1 kcal/mol`` $\\approx$ ``1.6 mH``). Remember, the quantum samples in this demo were pure noise. The signal here comes from *a priori* knowledge of the electronic structure and molecular Hamiltonian.\n",
    "\n",
    "The second plot shows the average occupancy of each spatial orbital after the final iteration. We can see that both the spin-up and spin-down electrons occupy the first five orbitals with high probability in our solutions."
   ]
  },
  {
   "cell_type": "code",
   "execution_count": 8,
   "id": "caffd888-e89c-4aa9-8bae-4d1bb723b35e",
   "metadata": {},
   "outputs": [
    {
     "name": "stdout",
     "output_type": "stream",
     "text": [
      "Exact energy: -109.04667 Ha\n",
      "SQD energy: -109.04127 Ha\n",
      "Absolute error: 0.00541 Ha\n"
     ]
    },
    {
     "data": {
      "image/png": "[encoded data removed]",
      "text/plain": [
       "<Figure size 1200x600 with 2 Axes>"
      ]
     },
     "metadata": {},
     "output_type": "display_data"
    }
   ],
   "source": [
    "import matplotlib.pyplot as plt\n",
    "\n",
    "# Data for energies plot\n",
    "x1 = range(iterations)\n",
    "min_e = [np.min(e) for e in e_hist]\n",
    "e_diff = [abs(e - exact_energy) for e in min_e]\n",
    "yt1 = [1.0, 1e-1, 1e-2, 1e-3, 1e-4]\n",
    "\n",
    "# Chemical accuracy (+/- 1 milli-Hartree)\n",
    "chem_accuracy = 0.001\n",
    "\n",
    "# Data for avg spatial orbital occupancy\n",
    "y2 = occupancy_hist[-1][0] + occupancy_hist[-1][1]\n",
    "x2 = range(len(y2))\n",
    "\n",
    "fig, axs = plt.subplots(1, 2, figsize=(12, 6))\n",
    "\n",
    "# Plot energies\n",
    "axs[0].plot(x1, e_diff, label=\"energy error\", marker=\"o\")\n",
    "axs[0].set_xticks(x1)\n",
    "axs[0].set_xticklabels(x1)\n",
    "axs[0].set_yticks(yt1)\n",
    "axs[0].set_yticklabels(yt1)\n",
    "axs[0].set_yscale(\"log\")\n",
    "axs[0].set_ylim(1e-4)\n",
    "axs[0].axhline(y=chem_accuracy, color=\"#BF5700\", linestyle=\"--\", label=\"chemical accuracy\")\n",
    "axs[0].set_title(\"Approximated Ground State Energy Error vs SQD Iterations\")\n",
    "axs[0].set_xlabel(\"Iteration Index\", fontdict={\"fontsize\": 12})\n",
    "axs[0].set_ylabel(\"Energy Error (Ha)\", fontdict={\"fontsize\": 12})\n",
    "axs[0].legend()\n",
    "\n",
    "# Plot orbital occupancy\n",
    "axs[1].bar(x2, y2, width=0.8)\n",
    "axs[1].set_xticks(x2)\n",
    "axs[1].set_xticklabels(x2)\n",
    "axs[1].set_title(\"Avg Occupancy per Spatial Orbital\")\n",
    "axs[1].set_xlabel(\"Orbital Index\", fontdict={\"fontsize\": 12})\n",
    "axs[1].set_ylabel(\"Avg Occupancy\", fontdict={\"fontsize\": 12})\n",
    "\n",
    "print(f\"Exact energy: {exact_energy:.5f} Ha\")\n",
    "print(f\"SQD energy: {min_e[-1]:.5f} Ha\")\n",
    "print(f\"Absolute error: {e_diff[-1]:.5f} Ha\")\n",
    "plt.tight_layout()\n",
    "plt.show()"
   ]
  }
 ],
 "metadata": {
  "kernelspec": {
   "display_name": "qiskit-addons",
   "language": "python",
   "name": "python3"
  },
  "language_info": {
   "codemirror_mode": {
    "name": "ipython",
    "version": 3
   },
   "file_extension": ".py",
   "mimetype": "text/x-python",
   "name": "python",
   "nbconvert_exporter": "python",
   "pygments_lexer": "ipython3",
   "version": "3.12.1"
  }
 },
 "nbformat": 4,
 "nbformat_minor": 5
}
