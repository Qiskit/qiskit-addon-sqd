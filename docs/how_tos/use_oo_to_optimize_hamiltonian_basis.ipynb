{
 "cells": [
  {
   "cell_type": "markdown",
   "id": "9e40af77-7f0f-4dd6-ab0a-420cf396050e",
   "metadata": {},
   "source": [
    "# Optimize Hamiltonian basis with orbital optimization\n",
    "\n",
    "In this tutorial, we will show how to use the `sqd` package to post-process quantum samples using the [self-consistent configuration recovery technique](https://arxiv.org/abs/2405.05068) and then further optimize the ground state approximation using orbital optimization\n",
    "\n",
    "Refer to [Sec. II A 4](https://arxiv.org/pdf/2405.05068) for a more detailed discussion on this technique."
   ]
  },
  {
   "cell_type": "markdown",
   "id": "a6755afb-ca1e-4473-974b-ba89acc8abce",
   "metadata": {},
   "source": [
    "### First we will specify the molecule and its properties\n",
    "\n",
    "In this example, we will approximate the ground state energy of an $N_2$ molecule and then improve the answer using orbital optimization. This guide studies $N_2$ at equilibrium, which is mean-field dominated. This means the MO basis is already a good choice for our integrals; therefore, we will rotate our integrals **out** of the MO basis in order to illustrate the effects of orbital optimization."
   ]
  },
  {
   "cell_type": "code",
   "execution_count": 1,
   "id": "677f54ac-b4ed-47e3-b5ba-5366d3a520f9",
   "metadata": {},
   "outputs": [
    {
     "name": "stdout",
     "output_type": "stream",
     "text": [
      "Parsing ../molecules/n2_fci.txt\n"
     ]
    }
   ],
   "source": [
    "import numpy as np\n",
    "from pyscf import ao2mo, tools\n",
    "from qiskit_addon_sqd.fermion import rotate_integrals\n",
    "\n",
    "# Specify molecule properties\n",
    "num_orbitals = 16\n",
    "num_elec_a = num_elec_b = 5\n",
    "open_shell = False\n",
    "spin_sq = 0\n",
    "\n",
    "# Read in molecule from disk\n",
    "mf_as = tools.fcidump.to_scf(\"../molecules/n2_fci.txt\")\n",
    "hcore = mf_as.get_hcore()\n",
    "eri = ao2mo.restore(1, mf_as._eri, num_orbitals)\n",
    "\n",
    "# Rotate our integrals out of MO basis\n",
    "k_rot = (np.random.rand(num_orbitals**2) - 0.5) * 0.1\n",
    "hcore_rot, eri_rot = rotate_integrals(hcore, eri, k_rot)\n",
    "\n",
    "nuclear_repulsion_energy = mf_as.mol.energy_nuc()"
   ]
  },
  {
   "cell_type": "markdown",
   "id": "c58e988c-a109-44cd-a975-9df43250c318",
   "metadata": {},
   "source": [
    "### Generate a dummy counts dictionary and create the bitstring matrix and probability array"
   ]
  },
  {
   "cell_type": "code",
   "execution_count": 2,
   "id": "e9506e0b-ed64-48bb-a97a-ef851b604af1",
   "metadata": {},
   "outputs": [],
   "source": [
    "from qiskit_addon_sqd.counts import counts_to_arrays, generate_counts_uniform\n",
    "\n",
    "# Create a seed to control randomness throughout this workflow\n",
    "rand_seed = 42\n",
    "\n",
    "# Generate random samples\n",
    "counts_dict = generate_counts_uniform(10_000, num_orbitals * 2, rand_seed=rand_seed)\n",
    "\n",
    "# Convert counts into bitstring and probability arrays\n",
    "bitstring_matrix_full, probs_arr_full = counts_to_arrays(counts_dict)"
   ]
  },
  {
   "cell_type": "markdown",
   "id": "eb704101-0fe8-4d12-b572-b1d844e35a90",
   "metadata": {},
   "source": [
    "### Iteratively refine the samples using SQD and approximate the ground state"
   ]
  },
  {
   "cell_type": "code",
   "execution_count": 3,
   "id": "b72c048e-fe8e-4fc2-b28b-03138249074e",
   "metadata": {},
   "outputs": [
    {
     "name": "stdout",
     "output_type": "stream",
     "text": [
      "Starting configuration recovery iteration 0\n",
      "Starting configuration recovery iteration 1\n",
      "Starting configuration recovery iteration 2\n",
      "Starting configuration recovery iteration 3\n",
      "Starting configuration recovery iteration 4\n"
     ]
    }
   ],
   "source": [
    "from qiskit_addon_sqd.configuration_recovery import recover_configurations\n",
    "from qiskit_addon_sqd.fermion import flip_orbital_occupancies, solve_fermion\n",
    "from qiskit_addon_sqd.subsampling import postselect_and_subsample\n",
    "\n",
    "# SQSD options\n",
    "iterations = 5\n",
    "\n",
    "# Eigenstate solver options\n",
    "n_batches = 10\n",
    "samples_per_batch = 300\n",
    "max_davidson_cycles = 200\n",
    "\n",
    "# Self-consistent configuration recovery loop\n",
    "e_hist = np.zeros((iterations, n_batches))  # energy history\n",
    "s_hist = np.zeros((iterations, n_batches))  # spin history\n",
    "occupancy_hist = np.zeros((iterations, 2 * num_orbitals))\n",
    "occupancies_bitwise = None  # orbital i corresponds to column i in bitstring matrix\n",
    "for i in range(iterations):\n",
    "    print(f\"Starting configuration recovery iteration {i}\")\n",
    "    # On the first iteration, we have no orbital occupancy information from the\n",
    "    # solver, so we just post-select from the full bitstring set based on hamming weight.\n",
    "    if occupancies_bitwise is None:\n",
    "        bs_mat_tmp = bitstring_matrix_full\n",
    "        probs_arr_tmp = probs_arr_full\n",
    "\n",
    "    # In following iterations, we use both the occupancy info and the target hamming\n",
    "    # weight to refine bitstrings.\n",
    "    else:\n",
    "        bs_mat_tmp, probs_arr_tmp = recover_configurations(\n",
    "            bitstring_matrix_full,\n",
    "            probs_arr_full,\n",
    "            occupancies_bitwise,\n",
    "            num_elec_a,\n",
    "            num_elec_b,\n",
    "            rand_seed=rand_seed,\n",
    "        )\n",
    "\n",
    "    # Throw out samples with incorrect hamming weight and create batches of subsamples.\n",
    "    batches = postselect_and_subsample(\n",
    "        bs_mat_tmp,\n",
    "        probs_arr_tmp,\n",
    "        hamming_right=num_elec_a,\n",
    "        hamming_left=num_elec_b,\n",
    "        samples_per_batch=samples_per_batch,\n",
    "        num_batches=n_batches,\n",
    "        rand_seed=rand_seed,\n",
    "    )\n",
    "\n",
    "    # Run eigenstate solvers in a loop. This loop should be parallelized for larger problems.\n",
    "    int_e = np.zeros(n_batches)\n",
    "    int_s = np.zeros(n_batches)\n",
    "    int_occs = np.zeros((n_batches, 2 * num_orbitals))\n",
    "    cs = []\n",
    "    for j in range(n_batches):\n",
    "        energy_sci, coeffs_sci, avg_occs, spin = solve_fermion(\n",
    "            batches[j],\n",
    "            hcore_rot,\n",
    "            eri_rot,\n",
    "            open_shell=open_shell,\n",
    "            spin_sq=spin_sq,\n",
    "            max_davidson=max_davidson_cycles,\n",
    "        )\n",
    "        energy_sci += nuclear_repulsion_energy\n",
    "        int_e[j] = energy_sci\n",
    "        int_s[j] = spin\n",
    "        int_occs[j, :num_orbitals] = avg_occs[0]\n",
    "        int_occs[j, num_orbitals:] = avg_occs[1]\n",
    "        cs.append(coeffs_sci)\n",
    "\n",
    "    # Combine batch results\n",
    "    avg_occupancy = np.mean(int_occs, axis=0)\n",
    "    # The occupancies from the solver should be flipped to match the bits in the bitstring matrix.\n",
    "    occupancies_bitwise = flip_orbital_occupancies(avg_occupancy)\n",
    "\n",
    "    # Track optimization history\n",
    "    e_hist[i, :] = int_e\n",
    "    s_hist[i, :] = int_s\n",
    "    occupancy_hist[i, :] = avg_occupancy"
   ]
  },
  {
   "cell_type": "markdown",
   "id": "9d78906b-4759-4506-9c69-85d4e67766b3",
   "metadata": {},
   "source": [
    "### Visualize the results with no orbital optimization"
   ]
  },
  {
   "cell_type": "code",
   "execution_count": 4,
   "id": "caffd888-e89c-4aa9-8bae-4d1bb723b35e",
   "metadata": {},
   "outputs": [
    {
     "data": {
      "image/png": "[encoded data removed]",
      "text/plain": [
       "<Figure size 1200x600 with 2 Axes>"
      ]
     },
     "metadata": {},
     "output_type": "display_data"
    }
   ],
   "source": [
    "import matplotlib.pyplot as plt\n",
    "\n",
    "# Data for energies plot\n",
    "x1 = range(iterations)\n",
    "n2_exact = -109.10288938\n",
    "y1 = [np.min(energies) for energies in e_hist]\n",
    "yt1 = [float(i) for i in range(-110, -106)]\n",
    "\n",
    "# Data for avg spatial orbital occupancy\n",
    "y2 = avg_occupancy[:num_orbitals] + avg_occupancy[num_orbitals:]\n",
    "x2 = range(len(y2))\n",
    "\n",
    "fig, axs = plt.subplots(1, 2, figsize=(12, 6))\n",
    "\n",
    "# Plot energies\n",
    "axs[0].plot(x1, y1, label=\"Estimated\")\n",
    "axs[0].set_xticks(x1)\n",
    "axs[0].set_xticklabels(x1)\n",
    "axs[0].set_yticks(yt1)\n",
    "axs[0].set_yticklabels(yt1)\n",
    "axs[0].axhline(y=n2_exact, color=\"red\", linestyle=\"--\", label=\"Exact\")\n",
    "axs[0].set_title(\"Approximated Ground State Energy vs SQD Iterations\")\n",
    "axs[0].set_xlabel(\"Iteration Index\")\n",
    "axs[0].set_ylabel(\"Energy (Ha)\")\n",
    "axs[0].legend()\n",
    "\n",
    "# Plot orbital occupancy\n",
    "axs[1].bar(x2, y2, width=0.8)\n",
    "axs[1].set_xticks(x2)\n",
    "axs[1].set_xticklabels(x2)\n",
    "axs[1].set_title(\"Avg Occupancy per Spatial Orbital\")\n",
    "axs[1].set_xlabel(\"Orbital Index\")\n",
    "axs[1].set_ylabel(\"Avg Occupancy\")\n",
    "\n",
    "plt.tight_layout()\n",
    "plt.show()"
   ]
  },
  {
   "cell_type": "markdown",
   "id": "e8c6d5e4",
   "metadata": {},
   "source": [
    "### Orbital optimization\n",
    "\n",
    "We now describe how to optimize the orbitals to further improve the quality of the sqd calculation.\n",
    "\n",
    "The orbital rotations that are implemented in this package are those described by:\n",
    "$$\n",
    "U(\\kappa) = e^{\\sum_{pq, \\sigma} \\kappa_{pq} c^\\dagger_{p\\sigma} c_{q\\sigma}},\n",
    "$$\n",
    "where $\\kappa_{p, q} \\in \\mathbb{R}$ and $\\kappa_{p, q} = -\\kappa_{q, p}$. The orbitals are optimized to \n",
    "minimize the variational energy:\n",
    "$$\n",
    "E(\\kappa) = \\langle \\psi | U^\\dagger(\\kappa) H U(\\kappa)  |\\psi \\rangle,\n",
    "$$\n",
    "with respect to $\\kappa$ using gradient descent with momentum. Recall that \n",
    "$|\\psi\\rangle$ is spanned in a subspace defined by determinants.\n",
    "\n",
    "Since the change of basis alters the Hamiltonian, we allow $|\\psi\\rangle$ to \n",
    "respond to the change in the Hamiltonian. This is done by performing a number of alternating\n",
    "self-consistent optimizations of $\\kappa$ and $|\\psi\\rangle$. We recall that the optimal\n",
    "$|\\psi\\rangle$ is given by the lowest eigenvector of the Hamiltonian projected into the\n",
    "subspace.\n",
    "\n",
    "The ``sqd.fermion.fermion`` module provides the tools to perform this alternating\n",
    "optimization. In particular, the function ``sqd.fermion.optimize_orbitals()``.\n",
    "\n",
    "Some of the arguments that define the optimization are:\n",
    "\n",
    "- ``num_iters``: number of self-consistent iterations.\n",
    "- ``num_steps_grad``: number of gradient step updates performed when optimizing \n",
    "$\\kappa$ on each self-consistent iteration.\n",
    "- ``learning_rate``: step-size in the gradient descent optimization of $\\kappa$."
   ]
  },
  {
   "cell_type": "markdown",
   "id": "917cf2d0",
   "metadata": {},
   "source": [
    "#### Setup of the subspace\n",
    "\n",
    "To define the subspace, we will take the CI strings of the batch with the lowest energy\n",
    "from the last configuration recovery step. Other strategies may be used, like taking the union \n",
    "of the CI strings of the batches in the last configuration recovery iteration."
   ]
  },
  {
   "cell_type": "code",
   "execution_count": 5,
   "id": "2a587030",
   "metadata": {},
   "outputs": [
    {
     "name": "stdout",
     "output_type": "stream",
     "text": [
      "Subspace dimension: 213444\n",
      "Energy of that batch from SQD: -108.99034160888203\n"
     ]
    }
   ],
   "source": [
    "from qiskit_addon_sqd.fermion import bitstring_matrix_to_ci_strs\n",
    "\n",
    "best_batch = batches[np.argmin(e_hist[-1])]\n",
    "ci_strs_up, ci_strs_dn = bitstring_matrix_to_ci_strs(best_batch, open_shell=open_shell)\n",
    "print(f\"Subspace dimension: {len(ci_strs_up) * len(ci_strs_dn)}\")\n",
    "print(f\"Energy of that batch from SQD: {e_hist[-1, np.argmin(e_hist[-1])]}\")\n",
    "\n",
    "# Union strategy\n",
    "\n",
    "# batches_union = np.concatenate((batches[0], batches[1]), axis = 0)\n",
    "# for i in range(n_batches-2):\n",
    "#    batches_union = np.concatenate((batches_union, batches[ i+ 2]))\n",
    "# ci_strs_up, ci_strs_dn = bitstring_matrix_to_ci_strs(\n",
    "#            batches_union, open_shell=open_shell\n",
    "#            )\n",
    "# print (f\"Subspace dimension: {len(ci_strs_up) * len(ci_strs_dn)}\")"
   ]
  },
  {
   "cell_type": "code",
   "execution_count": 6,
   "id": "b5e56baf",
   "metadata": {},
   "outputs": [],
   "source": [
    "from qiskit_addon_sqd.fermion import optimize_orbitals\n",
    "\n",
    "k_flat = (np.random.rand(num_orbitals**2) - 0.5) * 0.01  # initial guess for rotation params\n",
    "num_iters = 10\n",
    "num_steps_grad = 10_000  # relatively cheap to execute\n",
    "learning_rate = 0.1\n",
    "\n",
    "e_improved, k_flat, orbital_occupancies = optimize_orbitals(\n",
    "    best_batch,\n",
    "    hcore_rot,\n",
    "    eri_rot,\n",
    "    k_flat,\n",
    "    open_shell=open_shell,\n",
    "    spin_sq=spin_sq,\n",
    "    num_iters=num_iters,\n",
    "    num_steps_grad=num_steps_grad,\n",
    "    learning_rate=learning_rate,\n",
    "    max_davidson=max_davidson_cycles,\n",
    ")"
   ]
  },
  {
   "cell_type": "markdown",
   "id": "e06f5c28-83d0-4dc2-b2bd-2ec92676745d",
   "metadata": {},
   "source": [
    "Here we see that by optimizing rotation parameters for our Hamiltonian, we can improve the result from SQD."
   ]
  },
  {
   "cell_type": "code",
   "execution_count": 7,
   "id": "78a80e64",
   "metadata": {},
   "outputs": [
    {
     "name": "stdout",
     "output_type": "stream",
     "text": [
      "improved_energy in the new basis: -108.98995482831833\n"
     ]
    }
   ],
   "source": [
    "print(f\"improved_energy in the new basis: {e_improved + nuclear_repulsion_energy}\")"
   ]
  }
 ],
 "metadata": {
  "kernelspec": {
   "display_name": "Python 3 (ipykernel)",
   "language": "python",
   "name": "python3"
  },
  "language_info": {
   "codemirror_mode": {
    "name": "ipython",
    "version": 3
   },
   "file_extension": ".py",
   "mimetype": "text/x-python",
   "name": "python",
   "nbconvert_exporter": "python",
   "pygments_lexer": "ipython3",
   "version": "3.12.4"
  }
 },
 "nbformat": 4,
 "nbformat_minor": 5
}
