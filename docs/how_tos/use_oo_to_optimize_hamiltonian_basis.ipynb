{
 "cells": [
  {
   "cell_type": "markdown",
   "id": "9e40af77-7f0f-4dd6-ab0a-420cf396050e",
   "metadata": {},
   "source": [
    "# Optimize Hamiltonian basis with orbital optimization\n",
    "\n",
    "In this tutorial, we will show how to use the `sqd` package to post-process quantum samples using the [self-consistent configuration recovery technique](https://arxiv.org/abs/2405.05068) and then further optimize the ground state approximation using orbital optimization\n",
    "\n",
    "Refer to [Sec. II A 4](https://arxiv.org/pdf/2405.05068) for a more detailed discussion on this technique."
   ]
  },
  {
   "cell_type": "markdown",
   "id": "a6755afb-ca1e-4473-974b-ba89acc8abce",
   "metadata": {},
   "source": [
    "### Specify the molecule and generate samples\n",
    "\n",
    "In this example, we will approximate the ground state energy of an $N_2$ molecule and then improve the answer using orbital optimization. This guide studies $N_2$ at equilibrium, which is mean-field dominated. This means the MO basis is already a good choice for our integrals; therefore, we will rotate our integrals **out** of the MO basis in order to illustrate the effects of orbital optimization."
   ]
  },
  {
   "cell_type": "code",
   "execution_count": 1,
   "id": "677f54ac-b4ed-47e3-b5ba-5366d3a520f9",
   "metadata": {},
   "outputs": [],
   "source": [
    "%%capture\n",
    "import numpy as np\n",
    "import pyscf\n",
    "import pyscf.cc\n",
    "import pyscf.mcscf\n",
    "from qiskit_addon_sqd.fermion import rotate_integrals\n",
    "\n",
    "# Specify molecule properties\n",
    "spin_sq = 0\n",
    "\n",
    "# Build N2 molecule\n",
    "mol = pyscf.gto.Mole()\n",
    "mol.build(\n",
    "    atom=[[\"N\", (0, 0, 0)], [\"N\", (1.0, 0, 0)]],\n",
    "    # basis=\"6-31g\",\n",
    "    basis=\"sto-6g\",\n",
    "    symmetry=\"Dooh\",\n",
    ")\n",
    "\n",
    "# Define active space\n",
    "n_frozen = 2\n",
    "active_space = range(n_frozen, mol.nao_nr())\n",
    "\n",
    "# Get molecular integrals\n",
    "scf = pyscf.scf.RHF(mol).run()\n",
    "num_orbitals = len(active_space)\n",
    "n_electrons = int(sum(scf.mo_occ[active_space]))\n",
    "num_elec_a = (n_electrons + mol.spin) // 2\n",
    "num_elec_b = (n_electrons - mol.spin) // 2\n",
    "cas = pyscf.mcscf.CASCI(scf, num_orbitals, (num_elec_a, num_elec_b))\n",
    "mo = cas.sort_mo(active_space, base=0)\n",
    "hcore, nuclear_repulsion_energy = cas.get_h1cas(mo)\n",
    "eri = pyscf.ao2mo.restore(1, cas.get_h2cas(mo), num_orbitals)\n",
    "\n",
    "# Compute exact energy\n",
    "exact_energy = cas.run().e_tot"
   ]
  },
  {
   "cell_type": "markdown",
   "id": "b23a74fc-708c-4bd0-af4e-c9cd189b6346",
   "metadata": {},
   "source": [
    "The MO basis is already a good basis for this problem, so we will rotate out of that basis in this guide in order to highlight the effect of orbital optimization."
   ]
  },
  {
   "cell_type": "code",
   "execution_count": 2,
   "id": "9f46d1c6-3b49-45ad-b9ed-972bd58f7e3c",
   "metadata": {},
   "outputs": [],
   "source": [
    "# Rotate our integrals out of MO basis\n",
    "rng = np.random.default_rng(24)\n",
    "num_params = (num_orbitals**2 - num_orbitals) // 2  # antisymmetric, specified by upper triangle\n",
    "k_rot = (rng.random(num_params) - 0.5) * 0.5\n",
    "hcore_rot, eri_rot = rotate_integrals(hcore, eri, k_rot)"
   ]
  },
  {
   "cell_type": "markdown",
   "id": "c58e988c-a109-44cd-a975-9df43250c318",
   "metadata": {},
   "source": [
    "Generate samples"
   ]
  },
  {
   "cell_type": "code",
   "execution_count": 3,
   "id": "e9506e0b-ed64-48bb-a97a-ef851b604af1",
   "metadata": {},
   "outputs": [],
   "source": [
    "from qiskit_addon_sqd.counts import generate_bit_array_uniform\n",
    "\n",
    "# Generate random samples\n",
    "bit_array = generate_bit_array_uniform(10_000, num_orbitals * 2, rand_seed=rng)"
   ]
  },
  {
   "cell_type": "markdown",
   "id": "eb704101-0fe8-4d12-b572-b1d844e35a90",
   "metadata": {},
   "source": [
    "### Iteratively refine the samples using SQD and approximate the ground state"
   ]
  },
  {
   "cell_type": "code",
   "execution_count": 4,
   "id": "b72c048e-fe8e-4fc2-b28b-03138249074e",
   "metadata": {},
   "outputs": [
    {
     "name": "stdout",
     "output_type": "stream",
     "text": [
      "Iteration 1\n",
      "\tSubsample 0\n",
      "\t\tEnergy: -108.51514815848884\n",
      "\t\tSubspace dimension: 900\n",
      "\tSubsample 1\n",
      "\t\tEnergy: -107.74386023793795\n",
      "\t\tSubspace dimension: 784\n",
      "\tSubsample 2\n",
      "\t\tEnergy: -107.7411531716499\n",
      "\t\tSubspace dimension: 841\n",
      "Iteration 2\n",
      "\tSubsample 0\n",
      "\t\tEnergy: -108.53322549223714\n",
      "\t\tSubspace dimension: 625\n",
      "\tSubsample 1\n",
      "\t\tEnergy: -108.57716824917271\n",
      "\t\tSubspace dimension: 676\n",
      "\tSubsample 2\n",
      "\t\tEnergy: -108.508931350816\n",
      "\t\tSubspace dimension: 576\n",
      "Iteration 3\n",
      "\tSubsample 0\n",
      "\t\tEnergy: -108.55902215621444\n",
      "\t\tSubspace dimension: 625\n",
      "\tSubsample 1\n",
      "\t\tEnergy: -108.5776045917047\n",
      "\t\tSubspace dimension: 529\n",
      "\tSubsample 2\n",
      "\t\tEnergy: -108.56103466207057\n",
      "\t\tSubspace dimension: 676\n",
      "Iteration 4\n",
      "\tSubsample 0\n",
      "\t\tEnergy: -108.56619527937809\n",
      "\t\tSubspace dimension: 529\n",
      "\tSubsample 1\n",
      "\t\tEnergy: -108.56463009757981\n",
      "\t\tSubspace dimension: 625\n",
      "\tSubsample 2\n",
      "\t\tEnergy: -108.56630478170408\n",
      "\t\tSubspace dimension: 784\n",
      "Iteration 5\n",
      "\tSubsample 0\n",
      "\t\tEnergy: -108.56883735605814\n",
      "\t\tSubspace dimension: 529\n",
      "\tSubsample 1\n",
      "\t\tEnergy: -108.58150746468066\n",
      "\t\tSubspace dimension: 625\n",
      "\tSubsample 2\n",
      "\t\tEnergy: -108.55836297172482\n",
      "\t\tSubspace dimension: 529\n"
     ]
    }
   ],
   "source": [
    "from functools import partial\n",
    "\n",
    "from qiskit_addon_sqd.fermion import SCIResult, diagonalize_fermionic_hamiltonian, solve_sci_batch\n",
    "\n",
    "# SQD options\n",
    "energy_tol = 1e-3\n",
    "occupancies_tol = 1e-3\n",
    "max_iterations = 5\n",
    "\n",
    "# Eigenstate solver options\n",
    "num_batches = 3\n",
    "samples_per_batch = 20\n",
    "symmetrize_spin = True\n",
    "carryover_threshold = 1e-1\n",
    "max_cycle = 200\n",
    "\n",
    "# Pass options to the built-in eigensolver. If you just want to use the defaults,\n",
    "# you can omit this step, in which case you would not specify the sci_solver argument\n",
    "# in the call to diagonalize_fermionic_hamiltonian below.\n",
    "sci_solver = partial(solve_sci_batch, spin_sq=0.0, max_cycle=max_cycle)\n",
    "\n",
    "# List to capture intermediate results\n",
    "result_history = []\n",
    "\n",
    "\n",
    "def callback(results: list[SCIResult]):\n",
    "    result_history.append(results)\n",
    "    iteration = len(result_history)\n",
    "    print(f\"Iteration {iteration}\")\n",
    "    for i, result in enumerate(results):\n",
    "        print(f\"\\tSubsample {i}\")\n",
    "        print(f\"\\t\\tEnergy: {result.energy + nuclear_repulsion_energy}\")\n",
    "        print(f\"\\t\\tSubspace dimension: {np.prod(result.sci_state.amplitudes.shape)}\")\n",
    "\n",
    "\n",
    "result = diagonalize_fermionic_hamiltonian(\n",
    "    hcore,\n",
    "    eri,\n",
    "    bit_array,\n",
    "    samples_per_batch=samples_per_batch,\n",
    "    norb=num_orbitals,\n",
    "    nelec=(num_elec_a, num_elec_b),\n",
    "    num_batches=num_batches,\n",
    "    energy_tol=energy_tol,\n",
    "    occupancies_tol=occupancies_tol,\n",
    "    max_iterations=max_iterations,\n",
    "    sci_solver=sci_solver,\n",
    "    symmetrize_spin=symmetrize_spin,\n",
    "    carryover_threshold=carryover_threshold,\n",
    "    callback=callback,\n",
    "    seed=rng,\n",
    ")"
   ]
  },
  {
   "cell_type": "markdown",
   "id": "917cf2d0",
   "metadata": {},
   "source": [
    "### Refine the subspace\n",
    "\n",
    "To refine the subspace, we will take the CI strings of the SCI state returned by SQD. Other strategies may be used, like taking the union of the CI strings of the batches in the last configuration recovery iteration. You can save information from the recovery iterations by passing a callback function to `run_sqd` (see [Improving energy estimation of a chemistry Hamiltonian with SQD](../tutorials/01_chemistry_hamiltonian.ipynb))."
   ]
  },
  {
   "cell_type": "code",
   "execution_count": 5,
   "id": "2a587030",
   "metadata": {},
   "outputs": [
    {
     "name": "stdout",
     "output_type": "stream",
     "text": [
      "Subspace dimension: 625\n",
      "Energy of that batch from SQD: -108.58150746468066\n"
     ]
    }
   ],
   "source": [
    "print(f\"Subspace dimension: {np.prod(result.sci_state.amplitudes.shape)}\")\n",
    "print(f\"Energy of that batch from SQD: {result.energy + nuclear_repulsion_energy}\")"
   ]
  },
  {
   "cell_type": "markdown",
   "id": "e8c6d5e4",
   "metadata": {},
   "source": [
    "### Perform orbital optimization to improve the energy approximation\n",
    "\n",
    "We now describe how to optimize the orbitals to further improve the quality of the sqd calculation.\n",
    "\n",
    "The orbital rotations that are implemented in this package are those described by:\n",
    "$$\n",
    "U(\\kappa) = e^{\\sum_{pq, \\sigma} \\kappa_{pq} c^\\dagger_{p\\sigma} c_{q\\sigma}},\n",
    "$$\n",
    "where $\\kappa_{p, q} \\in \\mathbb{R}$ and $\\kappa_{p, q} = -\\kappa_{q, p}$. The orbitals are optimized to \n",
    "minimize the variational energy:\n",
    "$$\n",
    "E(\\kappa) = \\langle \\psi | U^\\dagger(\\kappa) H U(\\kappa)  |\\psi \\rangle,\n",
    "$$\n",
    "with respect to $\\kappa$ using gradient descent with momentum. Recall that \n",
    "$|\\psi\\rangle$ is spanned in a subspace defined by determinants.\n",
    "\n",
    "Since the change of basis alters the Hamiltonian, we allow $|\\psi\\rangle$ to \n",
    "respond to the change in the Hamiltonian. This is done by performing a number of alternating\n",
    "self-consistent optimizations of $\\kappa$ and $|\\psi\\rangle$. We recall that the optimal\n",
    "$|\\psi\\rangle$ is given by the lowest eigenvector of the Hamiltonian projected into the\n",
    "subspace.\n",
    "\n",
    "The ``sqd.fermion.fermion`` module provides the tools to perform this alternating\n",
    "optimization. In particular, the function ``sqd.fermion.optimize_orbitals()``.\n",
    "\n",
    "Some of the arguments that define the optimization are:\n",
    "\n",
    "- ``num_iters``: number of self-consistent iterations.\n",
    "- ``num_steps_grad``: number of gradient step updates performed when optimizing \n",
    "$\\kappa$ on each self-consistent iteration.\n",
    "- ``learning_rate``: step-size in the gradient descent optimization of $\\kappa$."
   ]
  },
  {
   "cell_type": "code",
   "execution_count": 6,
   "id": "b5e56baf",
   "metadata": {},
   "outputs": [],
   "source": [
    "from qiskit_addon_sqd.fermion import optimize_orbitals\n",
    "\n",
    "k_flat = (rng.random(num_params) - 0.5) * 0.1\n",
    "num_iters = 20\n",
    "num_steps_grad = 10_000  # relatively cheap to execute\n",
    "learning_rate = 0.05\n",
    "\n",
    "e_improved, k_flat, orbital_occupancies = optimize_orbitals(\n",
    "    (result.sci_state.ci_strs_a, result.sci_state.ci_strs_b),\n",
    "    hcore_rot,\n",
    "    eri_rot,\n",
    "    k_flat,\n",
    "    open_shell=False,\n",
    "    spin_sq=spin_sq,\n",
    "    num_iters=num_iters,\n",
    "    num_steps_grad=num_steps_grad,\n",
    "    learning_rate=learning_rate,\n",
    "    max_cycle=max_cycle,\n",
    ")"
   ]
  },
  {
   "cell_type": "markdown",
   "id": "e06f5c28-83d0-4dc2-b2bd-2ec92676745d",
   "metadata": {},
   "source": [
    "Here we see that by optimizing rotation parameters for our Hamiltonian, we can improve the result from SQD."
   ]
  },
  {
   "cell_type": "code",
   "execution_count": 7,
   "id": "78a80e64",
   "metadata": {},
   "outputs": [
    {
     "name": "stdout",
     "output_type": "stream",
     "text": [
      "Exact energy: -108.59598735098602\n",
      "SQD energy: -108.58150746468066\n",
      "Energy after OO: -108.49008547897714\n"
     ]
    }
   ],
   "source": [
    "print(f\"Exact energy: {exact_energy}\")\n",
    "print(f\"SQD energy: {result.energy + nuclear_repulsion_energy}\")\n",
    "print(f\"Energy after OO: {e_improved + nuclear_repulsion_energy}\")"
   ]
  }
 ],
 "metadata": {
  "kernelspec": {
   "display_name": ".venv",
   "language": "python",
   "name": "python3"
  },
  "language_info": {
   "codemirror_mode": {
    "name": "ipython",
    "version": 3
   },
   "file_extension": ".py",
   "mimetype": "text/x-python",
   "name": "python",
   "nbconvert_exporter": "python",
   "pygments_lexer": "ipython3",
   "version": "3.13.3"
  }
 },
 "nbformat": 4,
 "nbformat_minor": 5
}
