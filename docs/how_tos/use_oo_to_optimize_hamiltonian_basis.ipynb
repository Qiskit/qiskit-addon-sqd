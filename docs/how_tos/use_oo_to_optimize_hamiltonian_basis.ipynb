{
 "cells": [
  {
   "cell_type": "markdown",
   "id": "9e40af77-7f0f-4dd6-ab0a-420cf396050e",
   "metadata": {},
   "source": [
    "# Optimize Hamiltonian basis with orbital optimization\n",
    "\n",
    "In this tutorial, we will show how to use the `sqd` package to post-process quantum samples using the [self-consistent configuration recovery technique](https://arxiv.org/abs/2405.05068) and then further optimize the ground state approximation using orbital optimization\n",
    "\n",
    "Refer to [Sec. II A 4](https://arxiv.org/pdf/2405.05068) for a more detailed discussion on this technique."
   ]
  },
  {
   "cell_type": "markdown",
   "id": "a6755afb-ca1e-4473-974b-ba89acc8abce",
   "metadata": {},
   "source": [
    "### Specify the molecule and generate samples\n",
    "\n",
    "In this example, we will approximate the ground state energy of an $N_2$ molecule and then improve the answer using orbital optimization. This guide studies $N_2$ at equilibrium, which is mean-field dominated. This means the MO basis is already a good choice for our integrals; therefore, we will rotate our integrals **out** of the MO basis in order to illustrate the effects of orbital optimization."
   ]
  },
  {
   "cell_type": "code",
   "execution_count": 1,
   "id": "677f54ac-b4ed-47e3-b5ba-5366d3a520f9",
   "metadata": {},
   "outputs": [],
   "source": [
    "%%capture\n",
    "import numpy as np\n",
    "import pyscf\n",
    "import pyscf.cc\n",
    "import pyscf.mcscf\n",
    "from qiskit_addon_sqd.fermion import rotate_integrals\n",
    "\n",
    "# Specify molecule properties\n",
    "open_shell = False\n",
    "spin_sq = 0\n",
    "\n",
    "# Build N2 molecule\n",
    "mol = pyscf.gto.Mole()\n",
    "mol.build(\n",
    "    atom=[[\"N\", (0, 0, 0)], [\"N\", (1.0, 0, 0)]],\n",
    "    basis=\"6-31g\",\n",
    "    symmetry=\"Dooh\",\n",
    ")\n",
    "\n",
    "# Define active space\n",
    "n_frozen = 2\n",
    "active_space = range(n_frozen, mol.nao_nr())\n",
    "\n",
    "# Get molecular integrals\n",
    "scf = pyscf.scf.RHF(mol).run()\n",
    "num_orbitals = len(active_space)\n",
    "n_electrons = int(sum(scf.mo_occ[active_space]))\n",
    "num_elec_a = (n_electrons + mol.spin) // 2\n",
    "num_elec_b = (n_electrons - mol.spin) // 2\n",
    "cas = pyscf.mcscf.CASCI(scf, num_orbitals, (num_elec_a, num_elec_b))\n",
    "mo = cas.sort_mo(active_space, base=0)\n",
    "hcore, nuclear_repulsion_energy = cas.get_h1cas(mo)\n",
    "eri = pyscf.ao2mo.restore(1, cas.get_h2cas(mo), num_orbitals)\n",
    "\n",
    "# Compute exact energy\n",
    "exact_energy = cas.run().e_tot"
   ]
  },
  {
   "cell_type": "markdown",
   "id": "b23a74fc-708c-4bd0-af4e-c9cd189b6346",
   "metadata": {},
   "source": [
    "The MO basis is already a good basis for this problem, so we will rotate out of that basis in this guide in order to highlight the effect of orbital optimization."
   ]
  },
  {
   "cell_type": "code",
   "execution_count": 2,
   "id": "9f46d1c6-3b49-45ad-b9ed-972bd58f7e3c",
   "metadata": {},
   "outputs": [],
   "source": [
    "# Rotate our integrals out of MO basis\n",
    "rng = np.random.default_rng(24)\n",
    "num_params = (num_orbitals**2 - num_orbitals) // 2  # antisymmetric, specified by upper triangle\n",
    "k_rot = (rng.random(num_params) - 0.5) * 0.5\n",
    "hcore_rot, eri_rot = rotate_integrals(hcore, eri, k_rot)"
   ]
  },
  {
   "cell_type": "markdown",
   "id": "c58e988c-a109-44cd-a975-9df43250c318",
   "metadata": {},
   "source": [
    "Generate samples"
   ]
  },
  {
   "cell_type": "code",
   "execution_count": 3,
   "id": "e9506e0b-ed64-48bb-a97a-ef851b604af1",
   "metadata": {},
   "outputs": [],
   "source": [
    "from qiskit_addon_sqd.counts import counts_to_arrays, generate_counts_uniform\n",
    "\n",
    "# Generate random samples\n",
    "counts_dict = generate_counts_uniform(10_000, num_orbitals * 2, rand_seed=rng)\n",
    "\n",
    "# Convert counts into bitstring and probability arrays\n",
    "bitstring_matrix_full, probs_arr_full = counts_to_arrays(counts_dict)"
   ]
  },
  {
   "cell_type": "markdown",
   "id": "eb704101-0fe8-4d12-b572-b1d844e35a90",
   "metadata": {},
   "source": [
    "### Iteratively refine the samples using SQD and approximate the ground state"
   ]
  },
  {
   "cell_type": "code",
   "execution_count": 4,
   "id": "b72c048e-fe8e-4fc2-b28b-03138249074e",
   "metadata": {},
   "outputs": [
    {
     "name": "stdout",
     "output_type": "stream",
     "text": [
      "Starting configuration recovery iteration 0\n",
      "Starting configuration recovery iteration 1\n",
      "Starting configuration recovery iteration 2\n",
      "Starting configuration recovery iteration 3\n",
      "Starting configuration recovery iteration 4\n"
     ]
    }
   ],
   "source": [
    "from qiskit_addon_sqd.configuration_recovery import recover_configurations\n",
    "from qiskit_addon_sqd.fermion import solve_fermion\n",
    "from qiskit_addon_sqd.subsampling import postselect_and_subsample\n",
    "\n",
    "# SQSD options\n",
    "iterations = 5\n",
    "\n",
    "# Eigenstate solver options\n",
    "n_batches = 3\n",
    "samples_per_batch = 100\n",
    "max_davidson_cycles = 200\n",
    "\n",
    "# Self-consistent configuration recovery loop\n",
    "e_hist = np.zeros((iterations, n_batches))  # energy history\n",
    "s_hist = np.zeros((iterations, n_batches))  # spin history\n",
    "occupancy_hist = []\n",
    "avg_occupancy = None\n",
    "for i in range(iterations):\n",
    "    print(f\"Starting configuration recovery iteration {i}\")\n",
    "    # On the first iteration, we have no orbital occupancy information from the\n",
    "    # solver, so we just post-select from the full bitstring set based on hamming weight.\n",
    "    if avg_occupancy is None:\n",
    "        bs_mat_tmp = bitstring_matrix_full\n",
    "        probs_arr_tmp = probs_arr_full\n",
    "\n",
    "    # In following iterations, we use both the occupancy info and the target hamming\n",
    "    # weight to refine bitstrings.\n",
    "    else:\n",
    "        bs_mat_tmp, probs_arr_tmp = recover_configurations(\n",
    "            bitstring_matrix_full,\n",
    "            probs_arr_full,\n",
    "            avg_occupancy,\n",
    "            num_elec_a,\n",
    "            num_elec_b,\n",
    "            rand_seed=rng,\n",
    "        )\n",
    "\n",
    "    # Throw out samples with incorrect hamming weight and create batches of subsamples.\n",
    "    batches = postselect_and_subsample(\n",
    "        bs_mat_tmp,\n",
    "        probs_arr_tmp,\n",
    "        hamming_right=num_elec_a,\n",
    "        hamming_left=num_elec_b,\n",
    "        samples_per_batch=samples_per_batch,\n",
    "        num_batches=n_batches,\n",
    "        rand_seed=rng,\n",
    "    )\n",
    "\n",
    "    # Run eigenstate solvers in a loop. This loop should be parallelized for larger problems.\n",
    "    int_e = np.zeros(n_batches)\n",
    "    int_s = np.zeros(n_batches)\n",
    "    int_occs = []\n",
    "    cs = []\n",
    "    for j in range(n_batches):\n",
    "        energy_sci, coeffs_sci, avg_occs, spin = solve_fermion(\n",
    "            batches[j],\n",
    "            hcore_rot,\n",
    "            eri_rot,\n",
    "            open_shell=open_shell,\n",
    "            spin_sq=spin_sq,\n",
    "            max_davidson=max_davidson_cycles,\n",
    "        )\n",
    "        energy_sci += nuclear_repulsion_energy\n",
    "        int_e[j] = energy_sci\n",
    "        int_s[j] = spin\n",
    "        int_occs.append(avg_occs)\n",
    "        cs.append(coeffs_sci)\n",
    "\n",
    "    # Combine batch results\n",
    "    avg_occupancy = tuple(np.mean(int_occs, axis=0))\n",
    "\n",
    "    # Track optimization history\n",
    "    e_hist[i, :] = int_e\n",
    "    s_hist[i, :] = int_s\n",
    "    occupancy_hist.append(avg_occupancy)"
   ]
  },
  {
   "cell_type": "markdown",
   "id": "917cf2d0",
   "metadata": {},
   "source": [
    "### Refine the subspace\n",
    "\n",
    "To refine the subspace, we will take the CI strings of the batch with the lowest energy\n",
    "from the last configuration recovery step. Other strategies may be used, like taking the union \n",
    "of the CI strings of the batches in the last configuration recovery iteration."
   ]
  },
  {
   "cell_type": "code",
   "execution_count": 5,
   "id": "2a587030",
   "metadata": {},
   "outputs": [
    {
     "name": "stdout",
     "output_type": "stream",
     "text": [
      "Subspace dimension: 32761\n",
      "Energy of that batch from SQD: -108.7531706601421\n"
     ]
    }
   ],
   "source": [
    "from qiskit_addon_sqd.fermion import bitstring_matrix_to_ci_strs\n",
    "\n",
    "best_batch = batches[np.argmin(e_hist[-1])]\n",
    "ci_strs_up, ci_strs_dn = bitstring_matrix_to_ci_strs(best_batch, open_shell=open_shell)\n",
    "print(f\"Subspace dimension: {len(ci_strs_up) * len(ci_strs_dn)}\")\n",
    "print(f\"Energy of that batch from SQD: {e_hist[-1, np.argmin(e_hist[-1])]}\")\n",
    "\n",
    "# Union strategy\n",
    "\n",
    "# batches_union = np.concatenate((batches[0], batches[1]), axis = 0)\n",
    "# for i in range(n_batches-2):\n",
    "#    batches_union = np.concatenate((batches_union, batches[ i+ 2]))\n",
    "# ci_strs_up, ci_strs_dn = bitstring_matrix_to_ci_strs(\n",
    "#            batches_union, open_shell=open_shell\n",
    "#            )\n",
    "# print (f\"Subspace dimension: {len(ci_strs_up) * len(ci_strs_dn)}\")"
   ]
  },
  {
   "cell_type": "markdown",
   "id": "e8c6d5e4",
   "metadata": {},
   "source": [
    "### Perform orbital optimization to improve the energy approximation\n",
    "\n",
    "We now describe how to optimize the orbitals to further improve the quality of the sqd calculation.\n",
    "\n",
    "The orbital rotations that are implemented in this package are those described by:\n",
    "$$\n",
    "U(\\kappa) = e^{\\sum_{pq, \\sigma} \\kappa_{pq} c^\\dagger_{p\\sigma} c_{q\\sigma}},\n",
    "$$\n",
    "where $\\kappa_{p, q} \\in \\mathbb{R}$ and $\\kappa_{p, q} = -\\kappa_{q, p}$. The orbitals are optimized to \n",
    "minimize the variational energy:\n",
    "$$\n",
    "E(\\kappa) = \\langle \\psi | U^\\dagger(\\kappa) H U(\\kappa)  |\\psi \\rangle,\n",
    "$$\n",
    "with respect to $\\kappa$ using gradient descent with momentum. Recall that \n",
    "$|\\psi\\rangle$ is spanned in a subspace defined by determinants.\n",
    "\n",
    "Since the change of basis alters the Hamiltonian, we allow $|\\psi\\rangle$ to \n",
    "respond to the change in the Hamiltonian. This is done by performing a number of alternating\n",
    "self-consistent optimizations of $\\kappa$ and $|\\psi\\rangle$. We recall that the optimal\n",
    "$|\\psi\\rangle$ is given by the lowest eigenvector of the Hamiltonian projected into the\n",
    "subspace.\n",
    "\n",
    "The ``sqd.fermion.fermion`` module provides the tools to perform this alternating\n",
    "optimization. In particular, the function ``sqd.fermion.optimize_orbitals()``.\n",
    "\n",
    "Some of the arguments that define the optimization are:\n",
    "\n",
    "- ``num_iters``: number of self-consistent iterations.\n",
    "- ``num_steps_grad``: number of gradient step updates performed when optimizing \n",
    "$\\kappa$ on each self-consistent iteration.\n",
    "- ``learning_rate``: step-size in the gradient descent optimization of $\\kappa$."
   ]
  },
  {
   "cell_type": "code",
   "execution_count": 6,
   "id": "b5e56baf",
   "metadata": {},
   "outputs": [],
   "source": [
    "from qiskit_addon_sqd.fermion import optimize_orbitals\n",
    "\n",
    "k_flat = (rng.random(num_params) - 0.5) * 0.1\n",
    "num_iters = 20\n",
    "num_steps_grad = 10_000  # relatively cheap to execute\n",
    "learning_rate = 0.05\n",
    "\n",
    "e_improved, k_flat, orbital_occupancies = optimize_orbitals(\n",
    "    best_batch,\n",
    "    hcore_rot,\n",
    "    eri_rot,\n",
    "    k_flat,\n",
    "    open_shell=open_shell,\n",
    "    spin_sq=spin_sq,\n",
    "    num_iters=num_iters,\n",
    "    num_steps_grad=num_steps_grad,\n",
    "    learning_rate=learning_rate,\n",
    "    max_davidson=max_davidson_cycles,\n",
    ")"
   ]
  },
  {
   "cell_type": "markdown",
   "id": "e06f5c28-83d0-4dc2-b2bd-2ec92676745d",
   "metadata": {},
   "source": [
    "Here we see that by optimizing rotation parameters for our Hamiltonian, we can improve the result from SQD."
   ]
  },
  {
   "cell_type": "code",
   "execution_count": 7,
   "id": "78a80e64",
   "metadata": {},
   "outputs": [
    {
     "name": "stdout",
     "output_type": "stream",
     "text": [
      "Exact energy: -109.04667177808032\n",
      "SQD energy: -108.7531706601421\n",
      "Energy after OO: -108.80400806164377\n"
     ]
    }
   ],
   "source": [
    "print(f\"Exact energy: {exact_energy}\")\n",
    "print(f\"SQD energy: {np.min(e_hist[-1])}\")\n",
    "print(f\"Energy after OO: {e_improved + nuclear_repulsion_energy}\")"
   ]
  }
 ],
 "metadata": {
  "kernelspec": {
   "display_name": "Python 3 (ipykernel)",
   "language": "python",
   "name": "python3"
  },
  "language_info": {
   "codemirror_mode": {
    "name": "ipython",
    "version": 3
   },
   "file_extension": ".py",
   "mimetype": "text/x-python",
   "name": "python",
   "nbconvert_exporter": "python",
   "pygments_lexer": "ipython3",
   "version": "3.12.4"
  }
 },
 "nbformat": 4,
 "nbformat_minor": 5
}
