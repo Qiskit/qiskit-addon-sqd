{
 "cells": [
  {
   "cell_type": "markdown",
   "id": "21a1d83f-183f-4da9-bb8c-71400120fd31",
   "metadata": {},
   "source": [
    "# Project Pauli operators onto Hilbert subspaces"
   ]
  },
  {
   "cell_type": "code",
   "execution_count": 2,
   "id": "74c16c91-cc5c-46ce-aff8-17d0e71ac50f",
   "metadata": {},
   "outputs": [],
   "source": [
    "import numpy as np\n",
    "from qiskit_addon_sqd.qubit import matrix_elements_from_pauli_string, sort_and_remove_duplicates\n",
    "\n",
    "L = 22\n",
    "\n",
    "# Write all of the Pauli strings for the Heisenberg model\n",
    "paulis = []\n",
    "for i in range(L):\n",
    "    pstr = [\"I\" for i in range(L)]\n",
    "    # Sigma_x\n",
    "    pstr[i] = \"X\"\n",
    "    pstr[(i + 1) % L] = \"X\"\n",
    "    paulis.append(pstr)\n",
    "\n",
    "    pstr = [\"I\" for i in range(L)]\n",
    "    # Sigma_y\n",
    "    pstr[i] = \"Y\"\n",
    "    pstr[(i + 1) % L] = \"Y\"\n",
    "    paulis.append(pstr)\n",
    "\n",
    "    pstr = [\"I\" for i in range(L)]\n",
    "    # Sigma_z\n",
    "    pstr[i] = \"Z\"\n",
    "    pstr[(i + 1) % L] = \"Z\"\n",
    "    paulis.append(pstr)"
   ]
  },
  {
   "cell_type": "markdown",
   "id": "0540e60f",
   "metadata": {},
   "source": [
    "Let's make some random bitstrings"
   ]
  },
  {
   "cell_type": "code",
   "execution_count": 3,
   "id": "56350454",
   "metadata": {},
   "outputs": [
    {
     "name": "stdout",
     "output_type": "stream",
     "text": [
      "Subspace dimension: 4194276\n",
      "Full Hilbert space dimension: 4194304\n"
     ]
    }
   ],
   "source": [
    "rand_seed = 22\n",
    "np.random.seed(rand_seed)\n",
    "\n",
    "\n",
    "def random_bitstrings(n_samples, n_qubits):\n",
    "    return np.round(np.random.rand(n_samples, n_qubits)).astype(\"int\").astype(\"bool\")\n",
    "\n",
    "\n",
    "bts_matrix = random_bitstrings(50_000_000, L)\n",
    "\n",
    "# NOTE: It is essential for the projection code to have the bitstrings sorted!\n",
    "bts_matrix = sort_and_remove_duplicates(bts_matrix)\n",
    "\n",
    "print(\"Subspace dimension: \" + str(bts_matrix.shape[0]))\n",
    "print(\"Full Hilbert space dimension: \" + str(2**L))"
   ]
  },
  {
   "cell_type": "code",
   "execution_count": 4,
   "id": "f31f5e40",
   "metadata": {},
   "outputs": [],
   "source": [
    "from scipy.sparse import coo_matrix\n",
    "from scipy.sparse.linalg import eigsh\n",
    "\n",
    "d = bts_matrix.shape[0]\n",
    "\n",
    "# The first Pauli operator\n",
    "matrix_elements, row_coords, col_coords = matrix_elements_from_pauli_string(bts_matrix, paulis[0])\n",
    "\n",
    "# The complex double precision is required to match exactly Netket's results\n",
    "# We can relax it to complex64 most likely\n",
    "ham = coo_matrix((matrix_elements, (row_coords, col_coords)), (d, d), dtype=\"complex128\")\n",
    "\n",
    "# The remaining Pauli operators\n",
    "# It will be a good idea to make this operation in parallel\n",
    "for i in range(len(paulis) - 1):\n",
    "    matrix_elements, row_coords, col_coords = matrix_elements_from_pauli_string(\n",
    "        bts_matrix, paulis[i + 1]\n",
    "    )\n",
    "    ham += coo_matrix((matrix_elements, (row_coords, col_coords)), (d, d))"
   ]
  },
  {
   "cell_type": "code",
   "execution_count": 5,
   "id": "3ce6e519",
   "metadata": {},
   "outputs": [
    {
     "name": "stdout",
     "output_type": "stream",
     "text": [
      "[-39.14735935]\n"
     ]
    }
   ],
   "source": [
    "# And we finally diagonalize\n",
    "E, V = eigsh(ham, k=1, which=\"SA\")\n",
    "\n",
    "print(E)"
   ]
  }
 ],
 "metadata": {
  "kernelspec": {
   "display_name": "Python 3 (ipykernel)",
   "language": "python",
   "name": "python3"
  },
  "language_info": {
   "codemirror_mode": {
    "name": "ipython",
    "version": 3
   },
   "file_extension": ".py",
   "mimetype": "text/x-python",
   "name": "python",
   "nbconvert_exporter": "python",
   "pygments_lexer": "ipython3",
   "version": "3.12.4"
  }
 },
 "nbformat": 4,
 "nbformat_minor": 5
}
