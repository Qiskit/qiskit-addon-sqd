{
 "cells": [
  {
   "cell_type": "markdown",
   "id": "9e40af77-7f0f-4dd6-ab0a-420cf396050e",
   "metadata": {},
   "source": [
    "# Bound the subspace dimension\n",
    "\n",
    "In this tutorial, we will show the effect of the subspace dimension in the [self-consistent configuration recovery technique](https://arxiv.org/abs/2405.05068).\n",
    "\n",
    "***A priori***, we do not know what is the correct subspace dimension to obtain a target level of accuracy. However, we do know that increasing the subspace dimension increases the accuracy of the method. Therefore, we can study the accuracy of the predictions as a function of the subspace dimension."
   ]
  },
  {
   "cell_type": "markdown",
   "id": "a6755afb-ca1e-4473-974b-ba89acc8abce",
   "metadata": {},
   "source": [
    "Specify the molecule and its properties."
   ]
  },
  {
   "cell_type": "code",
   "execution_count": 1,
   "id": "677f54ac-b4ed-47e3-b5ba-5366d3a520f9",
   "metadata": {},
   "outputs": [
    {
     "name": "stdout",
     "output_type": "stream",
     "text": [
      "converged SCF energy = -108.835236570775\n",
      "CASCI E = -109.046671778080  E(CI) = -32.8155692383188  S^2 = 0.0000000\n"
     ]
    }
   ],
   "source": [
    "import warnings\n",
    "\n",
    "import pyscf\n",
    "import pyscf.cc\n",
    "import pyscf.mcscf\n",
    "\n",
    "warnings.filterwarnings(\"ignore\")\n",
    "\n",
    "# Specify molecule properties\n",
    "open_shell = False\n",
    "spin_sq = 0\n",
    "\n",
    "# Build N2 molecule\n",
    "mol = pyscf.gto.Mole()\n",
    "mol.build(\n",
    "    atom=[[\"N\", (0, 0, 0)], [\"N\", (1.0, 0, 0)]],\n",
    "    basis=\"6-31g\",\n",
    "    symmetry=\"Dooh\",\n",
    ")\n",
    "\n",
    "# Define active space\n",
    "n_frozen = 2\n",
    "active_space = range(n_frozen, mol.nao_nr())\n",
    "\n",
    "# Get molecular integrals\n",
    "scf = pyscf.scf.RHF(mol).run()\n",
    "num_orbitals = len(active_space)\n",
    "n_electrons = int(sum(scf.mo_occ[active_space]))\n",
    "num_elec_a = (n_electrons + mol.spin) // 2\n",
    "num_elec_b = (n_electrons - mol.spin) // 2\n",
    "cas = pyscf.mcscf.CASCI(scf, num_orbitals, (num_elec_a, num_elec_b))\n",
    "mo = cas.sort_mo(active_space, base=0)\n",
    "hcore, nuclear_repulsion_energy = cas.get_h1cas(mo)\n",
    "eri = pyscf.ao2mo.restore(1, cas.get_h2cas(mo), num_orbitals)\n",
    "\n",
    "# Compute exact energy\n",
    "exact_energy = cas.run().e_tot"
   ]
  },
  {
   "cell_type": "markdown",
   "id": "c58e988c-a109-44cd-a975-9df43250c318",
   "metadata": {},
   "source": [
    "Generate some dummy counts to proxy QPU samples."
   ]
  },
  {
   "cell_type": "code",
   "execution_count": 2,
   "id": "e9506e0b-ed64-48bb-a97a-ef851b604af1",
   "metadata": {},
   "outputs": [],
   "source": [
    "import numpy as np\n",
    "from qiskit_addon_sqd.counts import generate_counts_uniform\n",
    "\n",
    "# Create a seed to control randomness throughout this workflow\n",
    "rng = np.random.default_rng(24)\n",
    "\n",
    "# Generate random samples\n",
    "counts_dict = generate_counts_uniform(10_000, num_orbitals * 2, rand_seed=rng)"
   ]
  },
  {
   "cell_type": "markdown",
   "id": "851bc98e-9c08-4e78-9472-36301abc11d8",
   "metadata": {},
   "source": [
    "Convert the counts to a bitstring matrix"
   ]
  },
  {
   "cell_type": "code",
   "execution_count": 3,
   "id": "7a102a7f-aae6-4583-ab82-ae40fcb5496a",
   "metadata": {},
   "outputs": [],
   "source": [
    "from qiskit_addon_sqd.counts import counts_to_arrays\n",
    "\n",
    "# Convert counts into bitstring and probability arrays\n",
    "bitstring_matrix_full, probs_arr_full = counts_to_arrays(counts_dict)"
   ]
  },
  {
   "cell_type": "markdown",
   "id": "eb704101-0fe8-4d12-b572-b1d844e35a90",
   "metadata": {},
   "source": [
    "Define an SQD function, which we will call in a loop with increasing batch sizes."
   ]
  },
  {
   "cell_type": "code",
   "execution_count": 4,
   "id": "b72c048e-fe8e-4fc2-b28b-03138249074e",
   "metadata": {},
   "outputs": [],
   "source": [
    "from qiskit_addon_sqd.configuration_recovery import recover_configurations\n",
    "from qiskit_addon_sqd.fermion import (\n",
    "    bitstring_matrix_to_ci_strs,\n",
    "    flip_orbital_occupancies,\n",
    "    solve_fermion,\n",
    ")\n",
    "from qiskit_addon_sqd.subsampling import postselect_and_subsample\n",
    "\n",
    "\n",
    "def configuration_recovery_loop(\n",
    "    hcore: np.ndarray,\n",
    "    eri: np.ndarray,\n",
    "    num_elec_a: int,\n",
    "    num_elec_b: int,\n",
    "    spin_sq: float,\n",
    "    iterations: int,\n",
    "    n_batches: int,\n",
    "    samples_per_batch: int,\n",
    "    max_davidson_cycles: int,\n",
    "    rng: np.random.Generator,\n",
    ") -> tuple[np.ndarray, np.ndarray]:\n",
    "    \"\"\"Perform SQD.\"\"\"\n",
    "    # Self-consistent configuration recovery loop\n",
    "    e_hist = np.zeros((iterations, n_batches))  # energy history\n",
    "    s_hist = np.zeros((iterations, n_batches))  # spin history\n",
    "    d_hist = np.zeros((iterations, n_batches))  # subspace dimension history\n",
    "    occupancy_hist = np.zeros((iterations, 2 * num_orbitals))\n",
    "    occupancies_bitwise = None  # orbital i corresponds to column i in bitstring matrix\n",
    "    for i in range(iterations):\n",
    "        print(f\"Starting configuration recovery iteration {i}\")\n",
    "        # On the first iteration, we have no orbital occupancy information from the\n",
    "        # solver, so we just post-select from the full bitstring set based on hamming weight.\n",
    "        if occupancies_bitwise is None:\n",
    "            bs_mat_tmp = bitstring_matrix_full\n",
    "            probs_arr_tmp = probs_arr_full\n",
    "\n",
    "        # In following iterations, we use both the occupancy info and the target hamming\n",
    "        # weight to correct bitstrings.\n",
    "        else:\n",
    "            bs_mat_tmp, probs_arr_tmp = recover_configurations(\n",
    "                bitstring_matrix_full,\n",
    "                probs_arr_full,\n",
    "                occupancies_bitwise,\n",
    "                num_elec_a,\n",
    "                num_elec_b,\n",
    "                rand_seed=rng,\n",
    "            )\n",
    "\n",
    "        # Throw out samples with incorrect hamming weight and create batches of subsamples.\n",
    "        batches = postselect_and_subsample(\n",
    "            bs_mat_tmp,\n",
    "            probs_arr_tmp,\n",
    "            hamming_right=num_elec_a,\n",
    "            hamming_left=num_elec_b,\n",
    "            samples_per_batch=samples_per_batch,\n",
    "            num_batches=n_batches,\n",
    "            rand_seed=rng,\n",
    "        )\n",
    "\n",
    "        # Run eigenstate solvers in a loop. This loop should be parallelized for larger problems.\n",
    "        int_e = np.zeros(n_batches)\n",
    "        int_s = np.zeros(n_batches)\n",
    "        int_d = np.zeros(n_batches)\n",
    "        int_occs = np.zeros((n_batches, 2 * num_orbitals))\n",
    "        cs = []\n",
    "        for j in range(n_batches):\n",
    "            ci_strs = bitstring_matrix_to_ci_strs(batches[j], open_shell=open_shell)\n",
    "            int_d[j] = len(ci_strs[0]) * len(ci_strs[1])\n",
    "            energy_sci, coeffs_sci, avg_occs, spin = solve_fermion(\n",
    "                batches[j],\n",
    "                hcore,\n",
    "                eri,\n",
    "                open_shell=open_shell,\n",
    "                spin_sq=spin_sq,\n",
    "                max_davidson=max_davidson_cycles,\n",
    "            )\n",
    "            energy_sci += nuclear_repulsion_energy\n",
    "            int_e[j] = energy_sci\n",
    "            int_s[j] = spin\n",
    "            int_occs[j, :num_orbitals] = avg_occs[0]\n",
    "            int_occs[j, num_orbitals:] = avg_occs[1]\n",
    "            cs.append(coeffs_sci)\n",
    "\n",
    "        # Combine batch results\n",
    "        avg_occupancy = np.mean(int_occs, axis=0)\n",
    "        # The occupancies from the solver should be flipped to match the bits in the bitstring matrix.\n",
    "        occupancies_bitwise = flip_orbital_occupancies(avg_occupancy)\n",
    "\n",
    "        # Track optimization history\n",
    "        e_hist[i, :] = int_e\n",
    "        s_hist[i, :] = int_s\n",
    "        d_hist[i, :] = int_d\n",
    "        occupancy_hist[i, :] = avg_occupancy\n",
    "\n",
    "    return e_hist.flatten(), d_hist.flatten()"
   ]
  },
  {
   "cell_type": "markdown",
   "id": "82b062a3-d4ca-41e2-9b00-4a394f83cbdd",
   "metadata": {},
   "source": [
    "Call SQD with increasing batch sizes."
   ]
  },
  {
   "cell_type": "code",
   "execution_count": 5,
   "id": "e0847f28",
   "metadata": {},
   "outputs": [
    {
     "name": "stdout",
     "output_type": "stream",
     "text": [
      "Starting configuration recovery iteration 0\n",
      "Starting configuration recovery iteration 1\n",
      "Starting configuration recovery iteration 2\n",
      "Starting configuration recovery iteration 3\n",
      "Starting configuration recovery iteration 4\n",
      "Starting configuration recovery iteration 0\n",
      "Starting configuration recovery iteration 1\n",
      "Starting configuration recovery iteration 2\n",
      "Starting configuration recovery iteration 3\n",
      "Starting configuration recovery iteration 4\n",
      "Starting configuration recovery iteration 0\n",
      "Starting configuration recovery iteration 1\n",
      "Starting configuration recovery iteration 2\n",
      "Starting configuration recovery iteration 3\n",
      "Starting configuration recovery iteration 4\n",
      "Starting configuration recovery iteration 0\n",
      "Starting configuration recovery iteration 1\n",
      "Starting configuration recovery iteration 2\n",
      "Starting configuration recovery iteration 3\n",
      "Starting configuration recovery iteration 4\n"
     ]
    }
   ],
   "source": [
    "list_samples_per_batch = [50, 200, 400, 600]\n",
    "\n",
    "# SQD options\n",
    "iterations = 5\n",
    "\n",
    "# Eigenstate solver options\n",
    "n_batches = 10\n",
    "max_davidson_cycles = 200\n",
    "\n",
    "energies = []\n",
    "subspace_dimensions = []\n",
    "\n",
    "for samples_per_batch in list_samples_per_batch:\n",
    "    e_hist, d_hist = configuration_recovery_loop(\n",
    "        hcore,\n",
    "        eri,\n",
    "        num_elec_a,\n",
    "        num_elec_b,\n",
    "        spin_sq,\n",
    "        iterations,\n",
    "        n_batches,\n",
    "        samples_per_batch,\n",
    "        max_davidson_cycles,\n",
    "        rng=rng,\n",
    "    )\n",
    "    energies.append(np.min(e_hist))\n",
    "\n",
    "    index_min = np.argmin(e_hist)\n",
    "    subspace_dimensions.append(d_hist[index_min])"
   ]
  },
  {
   "cell_type": "markdown",
   "id": "9d78906b-4759-4506-9c69-85d4e67766b3",
   "metadata": {},
   "source": [
    "### Visualize the results\n",
    "\n",
    "This plot shows that increasing the subspace dimension leads to more accurate results."
   ]
  },
  {
   "cell_type": "code",
   "execution_count": 6,
   "id": "caffd888-e89c-4aa9-8bae-4d1bb723b35e",
   "metadata": {},
   "outputs": [
    {
     "data": {
      "image/png": "[encoded data removed]",
      "text/plain": [
       "<Figure size 1200x600 with 1 Axes>"
      ]
     },
     "metadata": {},
     "output_type": "display_data"
    }
   ],
   "source": [
    "import matplotlib.pyplot as plt\n",
    "\n",
    "# Data for energies plot\n",
    "x1 = subspace_dimensions\n",
    "y1 = energies\n",
    "\n",
    "fig, axs = plt.subplots(1, 1, figsize=(12, 6))\n",
    "\n",
    "# Plot energies\n",
    "axs.plot(x1, y1, marker=\".\", markersize=20, label=\"Estimated\")\n",
    "axs.set_xticks(x1)\n",
    "axs.set_xticklabels(x1)\n",
    "axs.axhline(y=exact_energy, color=\"red\", linestyle=\"--\", label=\"Exact\")\n",
    "axs.set_title(\"Approximated Ground State Energy vs subspace dimension\")\n",
    "axs.set_xlabel(\"Subspace dimension\")\n",
    "axs.set_ylabel(\"Energy (Ha)\")\n",
    "axs.legend()\n",
    "\n",
    "\n",
    "plt.tight_layout()\n",
    "plt.show()"
   ]
  }
 ],
 "metadata": {
  "kernelspec": {
   "display_name": "Python 3 (ipykernel)",
   "language": "python",
   "name": "python3"
  },
  "language_info": {
   "codemirror_mode": {
    "name": "ipython",
    "version": 3
   },
   "file_extension": ".py",
   "mimetype": "text/x-python",
   "name": "python",
   "nbconvert_exporter": "python",
   "pygments_lexer": "ipython3",
   "version": "3.12.4"
  }
 },
 "nbformat": 4,
 "nbformat_minor": 5
}
